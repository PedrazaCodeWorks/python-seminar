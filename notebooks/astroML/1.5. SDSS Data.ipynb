{
 "cells": [
  {
   "cell_type": "markdown",
   "metadata": {},
   "source": [
    "# SDSS Imaging Data"
   ]
  },
  {
   "cell_type": "markdown",
   "metadata": {},
   "source": [
    "## 1.5. Description of Surveys and Data Sets Used in Examples"
   ]
  },
  {
   "cell_type": "markdown",
   "metadata": {},
   "source": [
    "Many of the examples and applications in this book require realistic data sets in order\n",
    "to test their performance. There is an increasing amount of high-quality astronomical\n",
    "data freely available online. However, unless a person knows exactly where to look,\n",
    "and is familiar with database tools such as SQL (Structured Query Language, for\n",
    "searching databases), finding suitable data sets can be very hard. For this reason, we\n",
    "have created a suite of data set loaders within the package AstroML. These loaders\n",
    "use an intuitive interface to download and manage large sets of astronomical data,\n",
    "which are used for the examples and plots throughout this text. In this section, we\n",
    "describe these data loading tools, list the data sets available through this interface,\n",
    "and show some examples of how to work with these data in Python."
   ]
  },
  {
   "cell_type": "markdown",
   "metadata": {},
   "source": [
    "### 1.5.1. AstroML Data Set Tools"
   ]
  },
  {
   "cell_type": "markdown",
   "metadata": {},
   "source": [
    "Because of the size of these data sets, bundling them with the source code distribution\n",
    "would not be very practical. Instead, the data sets are maintained on a web page\n",
    "with http access via the data-set scripts in astroML.datasets. Each data set will be\n",
    "downloaded to your machine only when you first call the associated function. Once\n",
    "it is downloaded, the cached version will be used in all subsequent function calls.\n",
    "For example, to work with the SDSS imaging photometry (see below), use the\n",
    "function fetch_imaging_sample. The function takes an optional string argument,\n",
    "data_home. When the function is called, it first checks the data_home directory to\n",
    "see if the data file has already been saved to disk. If the data file is not\n",
    "present in the specified directory, it is automatically downloaded from the web and\n",
    "cached in this location.\n",
    ">from astroML.datasets import<TAB>\n",
    "\n",
    "The tab-completion feature of IPython will display the available data downloaders\n",
    "(see appendix A for more details on IPython)."
   ]
  },
  {
   "cell_type": "markdown",
   "metadata": {},
   "source": [
    "### 1.5.2. Overview of Available Data Sets"
   ]
  },
  {
   "cell_type": "markdown",
   "metadata": {},
   "source": [
    "Most of the astronomical data that we make available were obtained by the Sloan\n",
    "Digital Sky Survey ([SDSS](http://www.sdss.org/)), which operated in three phases starting in 1998. The\n",
    "SDSS used a dedicated 2.5m telescope at the Apache Point Observatory, New\n",
    "Mexico, equipped with two special-purpose instruments, to obtain a large volume\n",
    "of imaging and spectroscopic data. The 120 MP camera imaged the sky in five photometric bands (u, g , r, i, and z; see\n",
    "appendix C for more details about astronomical flux measurements, and for a figure\n",
    "with the SDSS passbands). As a result of the first two phases of SDSS, Data Release 7\n",
    "has publicly released photometry for 357 million unique sources detected in ∼12,000\n",
    "deg2 of sky23 (the full sky is equivalent to ∼40,000 deg2). For bright sources, the\n",
    "photometric precision is 0.01–0.02 mag (1–2% flux measurement errors), and the\n",
    "faint limit is r ∼ 22.5. \n",
    "\n",
    "The SDSS imaging data were used to select a subset of sources for spectroscopic\n",
    "follow-up. A pair of spectrographs fed by optical fibers measured spectra for more\n",
    "than 600 galaxies, quasars and stars in each single observation. These spectra have\n",
    "wavelength coverage of 3800–9200 Å and a spectral resolving power of R ∼2000.\n",
    "Data Release 7 includes about 1.6 million spectra, with about 900,000 galaxies,\n",
    "120,000 quasars and 460,000 stars. The total volume of imaging and spectroscopic\n",
    "data products in the SDSS Data Release 7 is about 60 TB.\n",
    "\n",
    "The second phase of the SDSS included many observations of the same patch\n",
    "of sky, dubbed “Stripe 82.” This opens up a new dimension of astronomical data:\n",
    "the time domain. The Stripe 82 data have led to advances in the understanding of\n",
    "many time-varying phenomena, from asteroid orbits to variable stars to quasars and\n",
    "supernovas. The multiple observations have also been combined to provide a catalog\n",
    "of nonvarying stars with excellent photometric precision.\n",
    "\n",
    "In addition to providing an unprecedented data set, the SDSS has revolutionized\n",
    "the public dissemination of astronomical data by providing exquisite portals for easy\n",
    "data access, search, analysis, and download. For professional purposes, the Catalog\n",
    "Archive Server (CAS24) and its SQL-based search engine is the most efficient way to\n",
    "get SDSS data. While detailed discussion of SQL is beyond the scope of this book,\n",
    "we note that the SDSS site provides a very useful set of example queries which can\n",
    "be quickly adapted to other problems.\n",
    "\n",
    "Alongside the SDSS data, we also provide the Two Micron All Sky Survey\n",
    "(2MASS) photometry for stars from the SDSS Standard Star Catalog, described in. [2MASS](https://en.wikipedia.org/wiki/2MASS) used two 1.3 m telescopes to survey the entire sky in near-infrared\n",
    "light. The three 2MASS bands, spanning the wavelength range 1.2–2.2 μm (adjacent\n",
    "to the SDSS wavelength range on the red side), are called J , H, and Ks (“s” in Ks\n",
    "stands for “short”).\n",
    "\n",
    "We provide several other data sets in addition to SDSS and 2MASS: the LINEAR\n",
    "database features time-domain observations of thousands of variable stars; the LIGO\n",
    "“Big Dog” data27 is a simulated data set from a gravitational wave observatory; and\n",
    "the asteroid data file includes orbital data that come from a large variety of sources.\n",
    "For more details about these samples, see the detailed sections below.\n",
    "We first describe tools and data sets for accessing SDSS imaging data for an\n",
    "arbitrary patch of sky, and for downloading an arbitrary SDSS spectrum. Several\n",
    "data sets specialized for the purposes of this book are described next and include\n",
    "galaxies with SDSS spectra, quasars with SDSS spectra, stars with SDSS spectra, a\n",
    "high-precision photometric catalog of SDSS standard stars, and a catalog of asteroids\n",
    "with known orbits and SDSS measurements.\n",
    "\n",
    "Throughout the book, these data are supplemented by simulated data ranging\n",
    "from simple one-dimensional toy models to more accurate multidimensional representations\n",
    "of real data sets. The example code for each figure can be used to quickly\n",
    "reproduce these simulated data sets."
   ]
  },
  {
   "cell_type": "markdown",
   "metadata": {},
   "source": [
    "### 1.5.3. SDSS Imaging Data"
   ]
  },
  {
   "cell_type": "markdown",
   "metadata": {},
   "source": [
    "The total volume of SDSS imaging data is measured in tens of terabytes and thus we will limit our example to a small (20 deg$^2$, or 0.05% of the sky) patch of sky. Data for a different patch size, or a different direction on the sky, can be obtained from their website.\n",
    "\n",
    "Here's the code implementation in astroML to download and parse this data."
   ]
  },
  {
   "cell_type": "code",
   "execution_count": 3,
   "metadata": {
    "collapsed": false
   },
   "outputs": [
    {
     "name": "stderr",
     "output_type": "stream",
     "text": [
      "C:\\Users\\Jerome\\Anaconda3\\lib\\site-packages\\astropy\\io\\fits\\util.py:578: UserWarning: Could not find appropriate MS Visual C Runtime library or library is corrupt/misconfigured; cannot determine whether your file object was opened in append mode.  Please consider using a file object opened in write mode instead.\n",
      "  'Could not find appropriate MS Visual C Runtime '\n"
     ]
    }
   ],
   "source": [
    "from astroML.datasets import fetch_imaging_sample\n",
    "data = fetch_imaging_sample()"
   ]
  },
  {
   "cell_type": "markdown",
   "metadata": {},
   "source": [
    "The first time this is called, the code will send an http request and download the data from the web. On subsequent calls, it will be loaded from local disk. The object returned is a record array, which is a data structure within NumPy designed for labeled data. Let us explore these data a bit:"
   ]
  },
  {
   "cell_type": "code",
   "execution_count": 4,
   "metadata": {
    "collapsed": false
   },
   "outputs": [
    {
     "data": {
      "text/plain": [
       "(330753,)"
      ]
     },
     "execution_count": 4,
     "metadata": {},
     "output_type": "execute_result"
    }
   ],
   "source": [
    "data.shape"
   ]
  },
  {
   "cell_type": "markdown",
   "metadata": {},
   "source": [
    "We see that there are just over 330,000 objects in the data set. The names for each of the attributes of these objects are stored within the array data type, which can be accessed via the dtype attribute of data. The names of the columns can be accessed as follows:"
   ]
  },
  {
   "cell_type": "code",
   "execution_count": 5,
   "metadata": {
    "collapsed": false
   },
   "outputs": [
    {
     "data": {
      "text/plain": [
       "('ra', 'dec', 'run', 'rExtSFD', 'uRaw')"
      ]
     },
     "execution_count": 5,
     "metadata": {},
     "output_type": "execute_result"
    }
   ],
   "source": [
    "data.dtype.names[:5]"
   ]
  },
  {
   "cell_type": "markdown",
   "metadata": {},
   "source": [
    "We have printed only the first five names here using the array slice syntax [:5]. The data within each column can be accessed via the column name:"
   ]
  },
  {
   "cell_type": "code",
   "execution_count": 6,
   "metadata": {
    "collapsed": false
   },
   "outputs": [
    {
     "data": {
      "text/plain": [
       "array([ 0.358174,  0.358382,  0.357898,  0.35791 ,  0.358881])"
      ]
     },
     "execution_count": 6,
     "metadata": {},
     "output_type": "execute_result"
    }
   ],
   "source": [
    "data['ra'][:5]"
   ]
  },
  {
   "cell_type": "code",
   "execution_count": 7,
   "metadata": {
    "collapsed": false,
    "scrolled": true
   },
   "outputs": [
    {
     "data": {
      "text/plain": [
       "array([-0.508718, -0.551157, -0.570892, -0.426526, -0.505625])"
      ]
     },
     "execution_count": 7,
     "metadata": {},
     "output_type": "execute_result"
    }
   ],
   "source": [
    "data['dec'][:5]"
   ]
  },
  {
   "cell_type": "code",
   "execution_count": 9,
   "metadata": {
    "collapsed": true
   },
   "outputs": [],
   "source": [
    "%matplotlib inline"
   ]
  },
  {
   "cell_type": "code",
   "execution_count": 6,
   "metadata": {
    "collapsed": false
   },
   "outputs": [
    {
     "name": "stderr",
     "output_type": "stream",
     "text": [
      "C:\\Users\\Jerome\\Anaconda3\\lib\\site-packages\\astropy\\io\\fits\\util.py:578: UserWarning: Could not find appropriate MS Visual C Runtime library or library is corrupt/misconfigured; cannot determine whether your file object was opened in append mode.  Please consider using a file object opened in write mode instead.\n",
      "  'Could not find appropriate MS Visual C Runtime '\n"
     ]
    }
   ],
   "source": [
    "\"\"\"\n",
    "SDSS Imaging\n",
    "\"\"\"\n",
    "import numpy as np\n",
    "from matplotlib import pyplot as plt\n",
    "from astroML.datasets import fetch_imaging_sample\n",
    "\n",
    "#----------------------------------------------------------------------\n",
    "# This function adjusts matplotlib settings for a uniform feel in the textbook.\n",
    "# Note that with usetex=True, fonts are rendered with LaTeX.  This may\n",
    "# result in an error if LaTeX is not installed on your system.  In that case,\n",
    "# you can set usetex to False.\n",
    "from astroML.plotting import setup_text_plots\n",
    "setup_text_plots(fontsize=12, usetex=True)\n",
    "\n",
    "\n",
    "def get_stars_and_galaxies(Nstars=5000, Ngals=5000):\n",
    "    \"\"\"Get the subset of star/galaxy data to plot\"\"\"\n",
    "    data = fetch_imaging_sample()\n",
    "\n",
    "    objtype = data['type']\n",
    "\n",
    "    stars = data[objtype == 6][:Nstars]\n",
    "    galaxies = data[objtype == 3][:Ngals]\n",
    "\n",
    "    return stars, galaxies\n",
    "\n",
    "\n",
    "def plot_stars_and_galaxies(stars, galaxies):\n",
    "    \"\"\"Plot the star and galaxy data\"\"\"\n",
    "    # Note: we use plot() rather than scatter() because it's more efficient\n",
    "    # for large numbers of points.\n",
    "    # Scatter should be used only when points need to be different colors\n",
    "    # and/or sizes\n",
    "    plot_kwargs = dict(color='k', linestyle='none', marker=',')\n",
    "\n",
    "    fig = plt.figure(figsize=(5, 3.75))\n",
    "\n",
    "    ax1 = fig.add_subplot(221)\n",
    "    ax1.plot(galaxies['gRaw'] - galaxies['rRaw'],\n",
    "             galaxies['rRaw'],\n",
    "             **plot_kwargs)\n",
    "\n",
    "    ax2 = fig.add_subplot(223, sharex=ax1)\n",
    "    ax2.plot(galaxies['gRaw'] - galaxies['rRaw'],\n",
    "             galaxies['rRaw'] - galaxies['iRaw'],\n",
    "             **plot_kwargs)\n",
    "\n",
    "    ax3 = fig.add_subplot(222, sharey=ax1)\n",
    "    ax3.plot(stars['gRaw'] - stars['rRaw'],\n",
    "             stars['rRaw'],\n",
    "             **plot_kwargs)\n",
    "\n",
    "    ax4 = fig.add_subplot(224, sharex=ax3, sharey=ax2)\n",
    "    ax4.plot(stars['gRaw'] - stars['rRaw'],\n",
    "             stars['rRaw'] - stars['iRaw'],\n",
    "             **plot_kwargs)\n",
    "\n",
    "    # set labels and titles\n",
    "    ax1.set_ylabel(r'${\\rm r}$')\n",
    "    ax2.set_ylabel(r'${\\rm r - i}$')\n",
    "    ax2.set_xlabel(r'${\\rm g - r}$')\n",
    "    ax4.set_xlabel(r'${\\rm g - r}$')\n",
    "    ax1.set_title('Galaxies')\n",
    "    ax3.set_title('Stars')\n",
    "\n",
    "    # set axis limits\n",
    "    ax2.set_xlim(-1, 3)\n",
    "    ax3.set_ylim(22.5, 14)\n",
    "    ax4.set_xlim(-1, 3)\n",
    "    ax4.set_ylim(-1, 2)\n",
    "\n",
    "    # adjust tick spacings on all axes\n",
    "    for ax in (ax1, ax2, ax3, ax4):\n",
    "        ax.xaxis.set_major_locator(plt.MultipleLocator(1))\n",
    "        ax.yaxis.set_major_locator(plt.MultipleLocator(1))\n",
    "\n",
    "#------------------------------------------------------------\n",
    "# Generate and show the plot\n",
    "stars, galaxies = get_stars_and_galaxies()\n",
    "plot_stars_and_galaxies(stars, galaxies)\n",
    "plt.show()"
   ]
  },
  {
   "cell_type": "raw",
   "metadata": {},
   "source": [
    "Figure 1.1. The r vs. g-r color-magnitude diagrams and the r-i vs. g-r color-color diagrams for galaxies (left column) and stars (right column) from the SDSS imaging catalog. Only the first 5000 entries for each subset are shown in order to minimize the blending of points (various more sophisticated visualization methods are discussed in Section 1.6)."
   ]
  },
  {
   "cell_type": "markdown",
   "metadata": {},
   "source": [
    "# 1.5.4. Fetching and Displaying SDSS Spectra"
   ]
  },
  {
   "cell_type": "markdown",
   "metadata": {},
   "source": [
    "While the above imaging data set has been downloaded in advance due to its size, it is also possible to access the SDSS database directly and in real time. In astroML.datasets, the function fetch_sdss_spectrum provides an interface to the [FITS](https://en.wikipedia.org/wiki/FITS) (Flexible Image Transport System; a standard file format in astronomy for manipulating images and tables33) files located on the SDSS spectral server. This operation is done in the background using the built-in Python module urllib2. For\n",
    "details on how this is accomplished, see the source code of fetch_sdss_spectrum.\n",
    "\n",
    "The interface is very similar to those from other examples discussed in this chapter, except that in this case the function call must specify the parameters\n",
    "that uniquely identify an SDSS spectrum: the spectroscopic plate number, the fiber number on a given plate, and the date of observation (modified Julian date, abbreviated mjd). The returned object is a custom class which wraps the pyfits interface to the FITS data file."
   ]
  },
  {
   "cell_type": "code",
   "execution_count": 12,
   "metadata": {
    "collapsed": false
   },
   "outputs": [
    {
     "name": "stdout",
     "output_type": "stream",
     "text": [
      "Using matplotlib backend: Qt4Agg\n",
      "Populating the interactive namespace from numpy and matplotlib\n"
     ]
    }
   ],
   "source": [
    "%pylab"
   ]
  },
  {
   "cell_type": "code",
   "execution_count": 7,
   "metadata": {
    "collapsed": false
   },
   "outputs": [
    {
     "name": "stderr",
     "output_type": "stream",
     "text": [
      "C:\\Users\\Jerome\\Anaconda3\\lib\\site-packages\\astropy\\io\\fits\\util.py:578: UserWarning: Could not find appropriate MS Visual C Runtime library or library is corrupt/misconfigured; cannot determine whether your file object was opened in append mode.  Please consider using a file object opened in write mode instead.\n",
      "  'Could not find appropriate MS Visual C Runtime '\n"
     ]
    }
   ],
   "source": [
    "\"\"\"\n",
    "SDSS Spectrum Example\n",
    "\"\"\"\n",
    "from matplotlib import pyplot as plt\n",
    "from astroML.datasets import fetch_sdss_spectrum\n",
    "\n",
    "#----------------------------------------------------------------------\n",
    "# This function adjusts matplotlib settings for a uniform feel in the textbook.\n",
    "# Note that with usetex=True, fonts are rendered with LaTeX.  This may\n",
    "# result in an error if LaTeX is not installed on your system.  In that case,\n",
    "# you can set usetex to False.\n",
    "from astroML.plotting import setup_text_plots\n",
    "setup_text_plots(fontsize=12, usetex=True)\n",
    "\n",
    "#------------------------------------------------------------\n",
    "# Fetch single spectrum\n",
    "plate = 1615\n",
    "mjd = 53166\n",
    "fiber = 513\n",
    "\n",
    "spec = fetch_sdss_spectrum(plate, mjd, fiber)\n",
    "\n",
    "#------------------------------------------------------------\n",
    "# Plot the resulting spectrum\n",
    "fig, ax = plt.subplots(figsize=(5, 3.75))\n",
    "ax.plot(spec.wavelength(), spec.spectrum, '-k', lw=1)\n",
    "\n",
    "ax.set_xlim(3000, 10000)\n",
    "ax.set_ylim(25, 300)\n",
    "\n",
    "ax.set_xlabel(r'$\\lambda {(\\rm \\AA)}$')\n",
    "ax.set_ylabel('Flux')\n",
    "ax.set_title('Plate = %(plate)i, MJD = %(mjd)i, Fiber = %(fiber)i' % locals())\n",
    "\n",
    "plt.show()"
   ]
  },
  {
   "cell_type": "raw",
   "metadata": {},
   "source": [
    "Figure 1.2. An example of an SDSS spectrum (the specific flux plotted as a function of wavelength) loaded from the SDSS SQL server in real time using Python tools provided here (this spectrum is uniquely described by SDSS parameters plate=1615, fiber=513, and mjd=53166).\n"
   ]
  },
  {
   "cell_type": "markdown",
   "metadata": {},
   "source": [
    "Once the spectral data are loaded into Python, any desired postprocessing can be performed locally.\n",
    "\n",
    "There is also a tool for determining the plate, mjd, and fiber numbers of spectra in a basic query. Here is an example, based on the spectroscopic galaxy data set described below."
   ]
  },
  {
   "cell_type": "code",
   "execution_count": 17,
   "metadata": {
    "collapsed": false,
    "scrolled": false
   },
   "outputs": [
    {
     "ename": "HTTPError",
     "evalue": "HTTP Error 404: Not Found",
     "output_type": "error",
     "traceback": [
      "\u001b[1;31m---------------------------------------------------------------------------\u001b[0m",
      "\u001b[1;31mHTTPError\u001b[0m                                 Traceback (most recent call last)",
      "\u001b[1;32m<ipython-input-17-9606de41e0ab>\u001b[0m in \u001b[0;36m<module>\u001b[1;34m()\u001b[0m\n\u001b[0;32m      1\u001b[0m \u001b[1;32mfrom\u001b[0m \u001b[0mastroML\u001b[0m\u001b[1;33m.\u001b[0m\u001b[0mdatasets\u001b[0m \u001b[1;32mimport\u001b[0m \u001b[0mtools\u001b[0m\u001b[1;33m\u001b[0m\u001b[0m\n\u001b[0;32m      2\u001b[0m \u001b[0mtarget\u001b[0m \u001b[1;33m=\u001b[0m \u001b[0mtools\u001b[0m\u001b[1;33m.\u001b[0m\u001b[0mTARGET_GALAXY\u001b[0m\u001b[1;33m\u001b[0m\u001b[0m\n\u001b[1;32m----> 3\u001b[1;33m \u001b[0mplt\u001b[0m \u001b[1;33m,\u001b[0m \u001b[0mmjd\u001b[0m \u001b[1;33m,\u001b[0m \u001b[0mfib\u001b[0m \u001b[1;33m=\u001b[0m \u001b[0mtools\u001b[0m\u001b[1;33m.\u001b[0m\u001b[0mquery_plate_mjd_fiber\u001b[0m\u001b[1;33m(\u001b[0m\u001b[1;36m5\u001b[0m\u001b[1;33m,\u001b[0m \u001b[0mprimtarget\u001b[0m\u001b[1;33m=\u001b[0m\u001b[0mtarget\u001b[0m\u001b[1;33m)\u001b[0m\u001b[1;33m\u001b[0m\u001b[0m\n\u001b[0m",
      "\u001b[1;32mC:\\Users\\Jerome\\Anaconda3\\lib\\site-packages\\astroML\\datasets\\tools\\cas_query.py\u001b[0m in \u001b[0;36mquery_plate_mjd_fiber\u001b[1;34m(n_spectra, primtarget, zmin, zmax)\u001b[0m\n\u001b[0;32m     69\u001b[0m             \"       AND (z > %(zmin)f) AND (z <= %(zmax)f) \")) % locals()\n\u001b[0;32m     70\u001b[0m \u001b[1;33m\u001b[0m\u001b[0m\n\u001b[1;32m---> 71\u001b[1;33m     \u001b[0moutput\u001b[0m \u001b[1;33m=\u001b[0m \u001b[0msql_query\u001b[0m\u001b[1;33m(\u001b[0m\u001b[0mquery_text\u001b[0m\u001b[1;33m)\u001b[0m\u001b[1;33m.\u001b[0m\u001b[0mreadlines\u001b[0m\u001b[1;33m(\u001b[0m\u001b[1;33m)\u001b[0m\u001b[1;33m\u001b[0m\u001b[0m\n\u001b[0m\u001b[0;32m     72\u001b[0m     \u001b[0mkeys\u001b[0m \u001b[1;33m=\u001b[0m \u001b[0moutput\u001b[0m\u001b[1;33m[\u001b[0m\u001b[1;36m0\u001b[0m\u001b[1;33m]\u001b[0m\u001b[1;33m\u001b[0m\u001b[0m\n\u001b[0;32m     73\u001b[0m \u001b[1;33m\u001b[0m\u001b[0m\n",
      "\u001b[1;32mC:\\Users\\Jerome\\Anaconda3\\lib\\site-packages\\astroML\\datasets\\tools\\sql_query.py\u001b[0m in \u001b[0;36msql_query\u001b[1;34m(sql_str, url, format)\u001b[0m\n\u001b[0;32m     35\u001b[0m     \u001b[0msql_str\u001b[0m \u001b[1;33m=\u001b[0m \u001b[0mremove_sql_comments\u001b[0m\u001b[1;33m(\u001b[0m\u001b[0msql_str\u001b[0m\u001b[1;33m)\u001b[0m\u001b[1;33m\u001b[0m\u001b[0m\n\u001b[0;32m     36\u001b[0m     \u001b[0mparams\u001b[0m \u001b[1;33m=\u001b[0m \u001b[0murlencode\u001b[0m\u001b[1;33m(\u001b[0m\u001b[0mdict\u001b[0m\u001b[1;33m(\u001b[0m\u001b[0mcmd\u001b[0m\u001b[1;33m=\u001b[0m\u001b[0msql_str\u001b[0m\u001b[1;33m,\u001b[0m \u001b[0mformat\u001b[0m\u001b[1;33m=\u001b[0m\u001b[0mformat\u001b[0m\u001b[1;33m)\u001b[0m\u001b[1;33m)\u001b[0m\u001b[1;33m\u001b[0m\u001b[0m\n\u001b[1;32m---> 37\u001b[1;33m     \u001b[1;32mreturn\u001b[0m \u001b[0murlopen\u001b[0m\u001b[1;33m(\u001b[0m\u001b[0murl\u001b[0m \u001b[1;33m+\u001b[0m \u001b[1;34m'?%s'\u001b[0m \u001b[1;33m%\u001b[0m \u001b[0mparams\u001b[0m\u001b[1;33m)\u001b[0m\u001b[1;33m\u001b[0m\u001b[0m\n\u001b[0m",
      "\u001b[1;32mC:\\Users\\Jerome\\Anaconda3\\lib\\urllib\\request.py\u001b[0m in \u001b[0;36murlopen\u001b[1;34m(url, data, timeout, cafile, capath, cadefault, context)\u001b[0m\n\u001b[0;32m    160\u001b[0m     \u001b[1;32melse\u001b[0m\u001b[1;33m:\u001b[0m\u001b[1;33m\u001b[0m\u001b[0m\n\u001b[0;32m    161\u001b[0m         \u001b[0mopener\u001b[0m \u001b[1;33m=\u001b[0m \u001b[0m_opener\u001b[0m\u001b[1;33m\u001b[0m\u001b[0m\n\u001b[1;32m--> 162\u001b[1;33m     \u001b[1;32mreturn\u001b[0m \u001b[0mopener\u001b[0m\u001b[1;33m.\u001b[0m\u001b[0mopen\u001b[0m\u001b[1;33m(\u001b[0m\u001b[0murl\u001b[0m\u001b[1;33m,\u001b[0m \u001b[0mdata\u001b[0m\u001b[1;33m,\u001b[0m \u001b[0mtimeout\u001b[0m\u001b[1;33m)\u001b[0m\u001b[1;33m\u001b[0m\u001b[0m\n\u001b[0m\u001b[0;32m    163\u001b[0m \u001b[1;33m\u001b[0m\u001b[0m\n\u001b[0;32m    164\u001b[0m \u001b[1;32mdef\u001b[0m \u001b[0minstall_opener\u001b[0m\u001b[1;33m(\u001b[0m\u001b[0mopener\u001b[0m\u001b[1;33m)\u001b[0m\u001b[1;33m:\u001b[0m\u001b[1;33m\u001b[0m\u001b[0m\n",
      "\u001b[1;32mC:\\Users\\Jerome\\Anaconda3\\lib\\urllib\\request.py\u001b[0m in \u001b[0;36mopen\u001b[1;34m(self, fullurl, data, timeout)\u001b[0m\n\u001b[0;32m    469\u001b[0m         \u001b[1;32mfor\u001b[0m \u001b[0mprocessor\u001b[0m \u001b[1;32min\u001b[0m \u001b[0mself\u001b[0m\u001b[1;33m.\u001b[0m\u001b[0mprocess_response\u001b[0m\u001b[1;33m.\u001b[0m\u001b[0mget\u001b[0m\u001b[1;33m(\u001b[0m\u001b[0mprotocol\u001b[0m\u001b[1;33m,\u001b[0m \u001b[1;33m[\u001b[0m\u001b[1;33m]\u001b[0m\u001b[1;33m)\u001b[0m\u001b[1;33m:\u001b[0m\u001b[1;33m\u001b[0m\u001b[0m\n\u001b[0;32m    470\u001b[0m             \u001b[0mmeth\u001b[0m \u001b[1;33m=\u001b[0m \u001b[0mgetattr\u001b[0m\u001b[1;33m(\u001b[0m\u001b[0mprocessor\u001b[0m\u001b[1;33m,\u001b[0m \u001b[0mmeth_name\u001b[0m\u001b[1;33m)\u001b[0m\u001b[1;33m\u001b[0m\u001b[0m\n\u001b[1;32m--> 471\u001b[1;33m             \u001b[0mresponse\u001b[0m \u001b[1;33m=\u001b[0m \u001b[0mmeth\u001b[0m\u001b[1;33m(\u001b[0m\u001b[0mreq\u001b[0m\u001b[1;33m,\u001b[0m \u001b[0mresponse\u001b[0m\u001b[1;33m)\u001b[0m\u001b[1;33m\u001b[0m\u001b[0m\n\u001b[0m\u001b[0;32m    472\u001b[0m \u001b[1;33m\u001b[0m\u001b[0m\n\u001b[0;32m    473\u001b[0m         \u001b[1;32mreturn\u001b[0m \u001b[0mresponse\u001b[0m\u001b[1;33m\u001b[0m\u001b[0m\n",
      "\u001b[1;32mC:\\Users\\Jerome\\Anaconda3\\lib\\urllib\\request.py\u001b[0m in \u001b[0;36mhttp_response\u001b[1;34m(self, request, response)\u001b[0m\n\u001b[0;32m    579\u001b[0m         \u001b[1;32mif\u001b[0m \u001b[1;32mnot\u001b[0m \u001b[1;33m(\u001b[0m\u001b[1;36m200\u001b[0m \u001b[1;33m<=\u001b[0m \u001b[0mcode\u001b[0m \u001b[1;33m<\u001b[0m \u001b[1;36m300\u001b[0m\u001b[1;33m)\u001b[0m\u001b[1;33m:\u001b[0m\u001b[1;33m\u001b[0m\u001b[0m\n\u001b[0;32m    580\u001b[0m             response = self.parent.error(\n\u001b[1;32m--> 581\u001b[1;33m                 'http', request, response, code, msg, hdrs)\n\u001b[0m\u001b[0;32m    582\u001b[0m \u001b[1;33m\u001b[0m\u001b[0m\n\u001b[0;32m    583\u001b[0m         \u001b[1;32mreturn\u001b[0m \u001b[0mresponse\u001b[0m\u001b[1;33m\u001b[0m\u001b[0m\n",
      "\u001b[1;32mC:\\Users\\Jerome\\Anaconda3\\lib\\urllib\\request.py\u001b[0m in \u001b[0;36merror\u001b[1;34m(self, proto, *args)\u001b[0m\n\u001b[0;32m    501\u001b[0m             \u001b[0mhttp_err\u001b[0m \u001b[1;33m=\u001b[0m \u001b[1;36m0\u001b[0m\u001b[1;33m\u001b[0m\u001b[0m\n\u001b[0;32m    502\u001b[0m         \u001b[0margs\u001b[0m \u001b[1;33m=\u001b[0m \u001b[1;33m(\u001b[0m\u001b[0mdict\u001b[0m\u001b[1;33m,\u001b[0m \u001b[0mproto\u001b[0m\u001b[1;33m,\u001b[0m \u001b[0mmeth_name\u001b[0m\u001b[1;33m)\u001b[0m \u001b[1;33m+\u001b[0m \u001b[0margs\u001b[0m\u001b[1;33m\u001b[0m\u001b[0m\n\u001b[1;32m--> 503\u001b[1;33m         \u001b[0mresult\u001b[0m \u001b[1;33m=\u001b[0m \u001b[0mself\u001b[0m\u001b[1;33m.\u001b[0m\u001b[0m_call_chain\u001b[0m\u001b[1;33m(\u001b[0m\u001b[1;33m*\u001b[0m\u001b[0margs\u001b[0m\u001b[1;33m)\u001b[0m\u001b[1;33m\u001b[0m\u001b[0m\n\u001b[0m\u001b[0;32m    504\u001b[0m         \u001b[1;32mif\u001b[0m \u001b[0mresult\u001b[0m\u001b[1;33m:\u001b[0m\u001b[1;33m\u001b[0m\u001b[0m\n\u001b[0;32m    505\u001b[0m             \u001b[1;32mreturn\u001b[0m \u001b[0mresult\u001b[0m\u001b[1;33m\u001b[0m\u001b[0m\n",
      "\u001b[1;32mC:\\Users\\Jerome\\Anaconda3\\lib\\urllib\\request.py\u001b[0m in \u001b[0;36m_call_chain\u001b[1;34m(self, chain, kind, meth_name, *args)\u001b[0m\n\u001b[0;32m    441\u001b[0m         \u001b[1;32mfor\u001b[0m \u001b[0mhandler\u001b[0m \u001b[1;32min\u001b[0m \u001b[0mhandlers\u001b[0m\u001b[1;33m:\u001b[0m\u001b[1;33m\u001b[0m\u001b[0m\n\u001b[0;32m    442\u001b[0m             \u001b[0mfunc\u001b[0m \u001b[1;33m=\u001b[0m \u001b[0mgetattr\u001b[0m\u001b[1;33m(\u001b[0m\u001b[0mhandler\u001b[0m\u001b[1;33m,\u001b[0m \u001b[0mmeth_name\u001b[0m\u001b[1;33m)\u001b[0m\u001b[1;33m\u001b[0m\u001b[0m\n\u001b[1;32m--> 443\u001b[1;33m             \u001b[0mresult\u001b[0m \u001b[1;33m=\u001b[0m \u001b[0mfunc\u001b[0m\u001b[1;33m(\u001b[0m\u001b[1;33m*\u001b[0m\u001b[0margs\u001b[0m\u001b[1;33m)\u001b[0m\u001b[1;33m\u001b[0m\u001b[0m\n\u001b[0m\u001b[0;32m    444\u001b[0m             \u001b[1;32mif\u001b[0m \u001b[0mresult\u001b[0m \u001b[1;32mis\u001b[0m \u001b[1;32mnot\u001b[0m \u001b[1;32mNone\u001b[0m\u001b[1;33m:\u001b[0m\u001b[1;33m\u001b[0m\u001b[0m\n\u001b[0;32m    445\u001b[0m                 \u001b[1;32mreturn\u001b[0m \u001b[0mresult\u001b[0m\u001b[1;33m\u001b[0m\u001b[0m\n",
      "\u001b[1;32mC:\\Users\\Jerome\\Anaconda3\\lib\\urllib\\request.py\u001b[0m in \u001b[0;36mhttp_error_302\u001b[1;34m(self, req, fp, code, msg, headers)\u001b[0m\n\u001b[0;32m    684\u001b[0m         \u001b[0mfp\u001b[0m\u001b[1;33m.\u001b[0m\u001b[0mclose\u001b[0m\u001b[1;33m(\u001b[0m\u001b[1;33m)\u001b[0m\u001b[1;33m\u001b[0m\u001b[0m\n\u001b[0;32m    685\u001b[0m \u001b[1;33m\u001b[0m\u001b[0m\n\u001b[1;32m--> 686\u001b[1;33m         \u001b[1;32mreturn\u001b[0m \u001b[0mself\u001b[0m\u001b[1;33m.\u001b[0m\u001b[0mparent\u001b[0m\u001b[1;33m.\u001b[0m\u001b[0mopen\u001b[0m\u001b[1;33m(\u001b[0m\u001b[0mnew\u001b[0m\u001b[1;33m,\u001b[0m \u001b[0mtimeout\u001b[0m\u001b[1;33m=\u001b[0m\u001b[0mreq\u001b[0m\u001b[1;33m.\u001b[0m\u001b[0mtimeout\u001b[0m\u001b[1;33m)\u001b[0m\u001b[1;33m\u001b[0m\u001b[0m\n\u001b[0m\u001b[0;32m    687\u001b[0m \u001b[1;33m\u001b[0m\u001b[0m\n\u001b[0;32m    688\u001b[0m     \u001b[0mhttp_error_301\u001b[0m \u001b[1;33m=\u001b[0m \u001b[0mhttp_error_303\u001b[0m \u001b[1;33m=\u001b[0m \u001b[0mhttp_error_307\u001b[0m \u001b[1;33m=\u001b[0m \u001b[0mhttp_error_302\u001b[0m\u001b[1;33m\u001b[0m\u001b[0m\n",
      "\u001b[1;32mC:\\Users\\Jerome\\Anaconda3\\lib\\urllib\\request.py\u001b[0m in \u001b[0;36mopen\u001b[1;34m(self, fullurl, data, timeout)\u001b[0m\n\u001b[0;32m    469\u001b[0m         \u001b[1;32mfor\u001b[0m \u001b[0mprocessor\u001b[0m \u001b[1;32min\u001b[0m \u001b[0mself\u001b[0m\u001b[1;33m.\u001b[0m\u001b[0mprocess_response\u001b[0m\u001b[1;33m.\u001b[0m\u001b[0mget\u001b[0m\u001b[1;33m(\u001b[0m\u001b[0mprotocol\u001b[0m\u001b[1;33m,\u001b[0m \u001b[1;33m[\u001b[0m\u001b[1;33m]\u001b[0m\u001b[1;33m)\u001b[0m\u001b[1;33m:\u001b[0m\u001b[1;33m\u001b[0m\u001b[0m\n\u001b[0;32m    470\u001b[0m             \u001b[0mmeth\u001b[0m \u001b[1;33m=\u001b[0m \u001b[0mgetattr\u001b[0m\u001b[1;33m(\u001b[0m\u001b[0mprocessor\u001b[0m\u001b[1;33m,\u001b[0m \u001b[0mmeth_name\u001b[0m\u001b[1;33m)\u001b[0m\u001b[1;33m\u001b[0m\u001b[0m\n\u001b[1;32m--> 471\u001b[1;33m             \u001b[0mresponse\u001b[0m \u001b[1;33m=\u001b[0m \u001b[0mmeth\u001b[0m\u001b[1;33m(\u001b[0m\u001b[0mreq\u001b[0m\u001b[1;33m,\u001b[0m \u001b[0mresponse\u001b[0m\u001b[1;33m)\u001b[0m\u001b[1;33m\u001b[0m\u001b[0m\n\u001b[0m\u001b[0;32m    472\u001b[0m \u001b[1;33m\u001b[0m\u001b[0m\n\u001b[0;32m    473\u001b[0m         \u001b[1;32mreturn\u001b[0m \u001b[0mresponse\u001b[0m\u001b[1;33m\u001b[0m\u001b[0m\n",
      "\u001b[1;32mC:\\Users\\Jerome\\Anaconda3\\lib\\urllib\\request.py\u001b[0m in \u001b[0;36mhttp_response\u001b[1;34m(self, request, response)\u001b[0m\n\u001b[0;32m    579\u001b[0m         \u001b[1;32mif\u001b[0m \u001b[1;32mnot\u001b[0m \u001b[1;33m(\u001b[0m\u001b[1;36m200\u001b[0m \u001b[1;33m<=\u001b[0m \u001b[0mcode\u001b[0m \u001b[1;33m<\u001b[0m \u001b[1;36m300\u001b[0m\u001b[1;33m)\u001b[0m\u001b[1;33m:\u001b[0m\u001b[1;33m\u001b[0m\u001b[0m\n\u001b[0;32m    580\u001b[0m             response = self.parent.error(\n\u001b[1;32m--> 581\u001b[1;33m                 'http', request, response, code, msg, hdrs)\n\u001b[0m\u001b[0;32m    582\u001b[0m \u001b[1;33m\u001b[0m\u001b[0m\n\u001b[0;32m    583\u001b[0m         \u001b[1;32mreturn\u001b[0m \u001b[0mresponse\u001b[0m\u001b[1;33m\u001b[0m\u001b[0m\n",
      "\u001b[1;32mC:\\Users\\Jerome\\Anaconda3\\lib\\urllib\\request.py\u001b[0m in \u001b[0;36merror\u001b[1;34m(self, proto, *args)\u001b[0m\n\u001b[0;32m    507\u001b[0m         \u001b[1;32mif\u001b[0m \u001b[0mhttp_err\u001b[0m\u001b[1;33m:\u001b[0m\u001b[1;33m\u001b[0m\u001b[0m\n\u001b[0;32m    508\u001b[0m             \u001b[0margs\u001b[0m \u001b[1;33m=\u001b[0m \u001b[1;33m(\u001b[0m\u001b[0mdict\u001b[0m\u001b[1;33m,\u001b[0m \u001b[1;34m'default'\u001b[0m\u001b[1;33m,\u001b[0m \u001b[1;34m'http_error_default'\u001b[0m\u001b[1;33m)\u001b[0m \u001b[1;33m+\u001b[0m \u001b[0morig_args\u001b[0m\u001b[1;33m\u001b[0m\u001b[0m\n\u001b[1;32m--> 509\u001b[1;33m             \u001b[1;32mreturn\u001b[0m \u001b[0mself\u001b[0m\u001b[1;33m.\u001b[0m\u001b[0m_call_chain\u001b[0m\u001b[1;33m(\u001b[0m\u001b[1;33m*\u001b[0m\u001b[0margs\u001b[0m\u001b[1;33m)\u001b[0m\u001b[1;33m\u001b[0m\u001b[0m\n\u001b[0m\u001b[0;32m    510\u001b[0m \u001b[1;33m\u001b[0m\u001b[0m\n\u001b[0;32m    511\u001b[0m \u001b[1;31m# XXX probably also want an abstract factory that knows when it makes\u001b[0m\u001b[1;33m\u001b[0m\u001b[1;33m\u001b[0m\u001b[0m\n",
      "\u001b[1;32mC:\\Users\\Jerome\\Anaconda3\\lib\\urllib\\request.py\u001b[0m in \u001b[0;36m_call_chain\u001b[1;34m(self, chain, kind, meth_name, *args)\u001b[0m\n\u001b[0;32m    441\u001b[0m         \u001b[1;32mfor\u001b[0m \u001b[0mhandler\u001b[0m \u001b[1;32min\u001b[0m \u001b[0mhandlers\u001b[0m\u001b[1;33m:\u001b[0m\u001b[1;33m\u001b[0m\u001b[0m\n\u001b[0;32m    442\u001b[0m             \u001b[0mfunc\u001b[0m \u001b[1;33m=\u001b[0m \u001b[0mgetattr\u001b[0m\u001b[1;33m(\u001b[0m\u001b[0mhandler\u001b[0m\u001b[1;33m,\u001b[0m \u001b[0mmeth_name\u001b[0m\u001b[1;33m)\u001b[0m\u001b[1;33m\u001b[0m\u001b[0m\n\u001b[1;32m--> 443\u001b[1;33m             \u001b[0mresult\u001b[0m \u001b[1;33m=\u001b[0m \u001b[0mfunc\u001b[0m\u001b[1;33m(\u001b[0m\u001b[1;33m*\u001b[0m\u001b[0margs\u001b[0m\u001b[1;33m)\u001b[0m\u001b[1;33m\u001b[0m\u001b[0m\n\u001b[0m\u001b[0;32m    444\u001b[0m             \u001b[1;32mif\u001b[0m \u001b[0mresult\u001b[0m \u001b[1;32mis\u001b[0m \u001b[1;32mnot\u001b[0m \u001b[1;32mNone\u001b[0m\u001b[1;33m:\u001b[0m\u001b[1;33m\u001b[0m\u001b[0m\n\u001b[0;32m    445\u001b[0m                 \u001b[1;32mreturn\u001b[0m \u001b[0mresult\u001b[0m\u001b[1;33m\u001b[0m\u001b[0m\n",
      "\u001b[1;32mC:\\Users\\Jerome\\Anaconda3\\lib\\urllib\\request.py\u001b[0m in \u001b[0;36mhttp_error_default\u001b[1;34m(self, req, fp, code, msg, hdrs)\u001b[0m\n\u001b[0;32m    587\u001b[0m \u001b[1;32mclass\u001b[0m \u001b[0mHTTPDefaultErrorHandler\u001b[0m\u001b[1;33m(\u001b[0m\u001b[0mBaseHandler\u001b[0m\u001b[1;33m)\u001b[0m\u001b[1;33m:\u001b[0m\u001b[1;33m\u001b[0m\u001b[0m\n\u001b[0;32m    588\u001b[0m     \u001b[1;32mdef\u001b[0m \u001b[0mhttp_error_default\u001b[0m\u001b[1;33m(\u001b[0m\u001b[0mself\u001b[0m\u001b[1;33m,\u001b[0m \u001b[0mreq\u001b[0m\u001b[1;33m,\u001b[0m \u001b[0mfp\u001b[0m\u001b[1;33m,\u001b[0m \u001b[0mcode\u001b[0m\u001b[1;33m,\u001b[0m \u001b[0mmsg\u001b[0m\u001b[1;33m,\u001b[0m \u001b[0mhdrs\u001b[0m\u001b[1;33m)\u001b[0m\u001b[1;33m:\u001b[0m\u001b[1;33m\u001b[0m\u001b[0m\n\u001b[1;32m--> 589\u001b[1;33m         \u001b[1;32mraise\u001b[0m \u001b[0mHTTPError\u001b[0m\u001b[1;33m(\u001b[0m\u001b[0mreq\u001b[0m\u001b[1;33m.\u001b[0m\u001b[0mfull_url\u001b[0m\u001b[1;33m,\u001b[0m \u001b[0mcode\u001b[0m\u001b[1;33m,\u001b[0m \u001b[0mmsg\u001b[0m\u001b[1;33m,\u001b[0m \u001b[0mhdrs\u001b[0m\u001b[1;33m,\u001b[0m \u001b[0mfp\u001b[0m\u001b[1;33m)\u001b[0m\u001b[1;33m\u001b[0m\u001b[0m\n\u001b[0m\u001b[0;32m    590\u001b[0m \u001b[1;33m\u001b[0m\u001b[0m\n\u001b[0;32m    591\u001b[0m \u001b[1;32mclass\u001b[0m \u001b[0mHTTPRedirectHandler\u001b[0m\u001b[1;33m(\u001b[0m\u001b[0mBaseHandler\u001b[0m\u001b[1;33m)\u001b[0m\u001b[1;33m:\u001b[0m\u001b[1;33m\u001b[0m\u001b[0m\n",
      "\u001b[1;31mHTTPError\u001b[0m: HTTP Error 404: Not Found"
     ]
    }
   ],
   "source": [
    "from astroML.datasets import tools\n",
    "target = tools.TARGET_GALAXY\n",
    "plt , mjd , fib = tools.query_plate_mjd_fiber(5, primtarget=target)"
   ]
  },
  {
   "cell_type": "code",
   "execution_count": null,
   "metadata": {
    "collapsed": true
   },
   "outputs": [],
   "source": [
    "plt"
   ]
  },
  {
   "cell_type": "code",
   "execution_count": null,
   "metadata": {
    "collapsed": true
   },
   "outputs": [],
   "source": [
    "mjd"
   ]
  },
  {
   "cell_type": "code",
   "execution_count": null,
   "metadata": {
    "collapsed": true
   },
   "outputs": [],
   "source": [
    "fib"
   ]
  },
  {
   "cell_type": "markdown",
   "metadata": {},
   "source": [
    "Here we have asked for five objects, and received a list of five IDs. These could\n",
    "then be passed to the fetch_sdss_spectrum function to download and work with the\n",
    "spectral data directly. This function works by constructing a fairly simple SQL query\n",
    "and using urllib to send this query to the SDSS database, parsing the results into a\n",
    "NumPy array. It is provided as a simple example of the way SQL queries can be used\n",
    "with the SDSS database.\n",
    "\n",
    "The plate and fiber numbers and mjd are listed in the next three data sets that\n",
    "are based on various SDSS spectroscopic samples. The corresponding spectra can\n",
    "be downloaded using fetch_sdss_spectrum, and processed as desired. An example\n",
    "of this can be found in the script examples/datasets/compute_sdss_pca.py within the\n",
    "astroML source code tree, which uses spectra to construct the spectral data set used in\n",
    "chapter 7."
   ]
  },
  {
   "cell_type": "markdown",
   "metadata": {},
   "source": [
    "# 1.5.5. Galaxies with SDSS Spectroscopic Data"
   ]
  },
  {
   "cell_type": "markdown",
   "metadata": {},
   "source": [
    "During the main phase of the SDSS survey, the imaging data were used to select about a million galaxies for spectroscopic follow-up, including the main flux-limited sample (approximately [r](https://www.astro.umd.edu/~ssm/ASTR620/mags.html) < 18; see the top-left panel in figure 1.1) and a smaller\n",
    "color-selected sample designed to include very luminous and distant galaxies (the so-called giant elliptical galaxies). Details about the selection of the galaxies for the\n",
    "spectroscopic follow-up can be found in Ref[36].\n",
    "\n",
    "In addition to parameters computed by the SDSS processing pipeline, such\n",
    "as redshift and emission-line strengths, a number of groups have developed postprocessing\n",
    "algorithms and produced so-called “value-added” catalogs with additional\n",
    "scientifically interesting parameters, such as star-formation rate and stellar mass estimates.\n",
    "We have downloaded a catalog with some of the most interesting parameters\n",
    "for ∼660,000 galaxies using the query listed in appendix D submitted to the SDSS\n",
    "Data Release 8 database.\n",
    "To facilitate use of this data set, in the AstroML package we have included a data\n",
    "set loading routine, which can be used as follows:"
   ]
  },
  {
   "cell_type": "code",
   "execution_count": 1,
   "metadata": {
    "collapsed": false
   },
   "outputs": [
    {
     "name": "stderr",
     "output_type": "stream",
     "text": [
      "C:\\Users\\Jerome\\Anaconda3\\lib\\site-packages\\astropy\\io\\fits\\util.py:578: UserWarning: Could not find appropriate MS Visual C Runtime library or library is corrupt/misconfigured; cannot determine whether your file object was opened in append mode.  Please consider using a file object opened in write mode instead.\n",
      "  'Could not find appropriate MS Visual C Runtime '\n"
     ]
    },
    {
     "data": {
      "text/plain": [
       "(661598,)"
      ]
     },
     "execution_count": 1,
     "metadata": {},
     "output_type": "execute_result"
    }
   ],
   "source": [
    "from astroML.datasets import fetch_sdss_specgals\n",
    "data = fetch_sdss_specgals()\n",
    "data.shape"
   ]
  },
  {
   "cell_type": "code",
   "execution_count": 2,
   "metadata": {
    "collapsed": false
   },
   "outputs": [
    {
     "data": {
      "text/plain": [
       "('ra', 'dec', 'mjd', 'plate', 'fiberID')"
      ]
     },
     "execution_count": 2,
     "metadata": {},
     "output_type": "execute_result"
    }
   ],
   "source": [
    "data.dtype.names[:5]"
   ]
  },
  {
   "cell_type": "markdown",
   "metadata": {},
   "source": [
    "As above, the resulting data is stored in a NumPy record array. We can use the data\n",
    "for the first 1000 entries to create an example color–magnitude diagram, shown in\n",
    "figure 1.3."
   ]
  },
  {
   "cell_type": "code",
   "execution_count": 8,
   "metadata": {
    "collapsed": false
   },
   "outputs": [
    {
     "name": "stderr",
     "output_type": "stream",
     "text": [
      "C:\\Users\\Jerome\\Anaconda3\\lib\\site-packages\\astropy\\io\\fits\\util.py:578: UserWarning: Could not find appropriate MS Visual C Runtime library or library is corrupt/misconfigured; cannot determine whether your file object was opened in append mode.  Please consider using a file object opened in write mode instead.\n",
      "  'Could not find appropriate MS Visual C Runtime '\n"
     ]
    }
   ],
   "source": [
    "\"\"\"\n",
    "SDSS Spectroscopic Galaxy Sample\n",
    "\"\"\"\n",
    "import numpy as np\n",
    "from matplotlib import pyplot as plt\n",
    "from astroML.datasets import fetch_sdss_specgals\n",
    "\n",
    "#----------------------------------------------------------------------\n",
    "# This function adjusts matplotlib settings for a uniform feel in the textbook.\n",
    "# Note that with usetex=True, fonts are rendered with LaTeX.  This may\n",
    "# result in an error if LaTeX is not installed on your system.  In that case,\n",
    "# you can set usetex to False.\n",
    "from astroML.plotting import setup_text_plots\n",
    "setup_text_plots(fontsize=12, usetex=True)\n",
    "\n",
    "#------------------------------------------------------------\n",
    "# Fetch spectroscopic galaxy data\n",
    "data = fetch_sdss_specgals()\n",
    "data = data[:1000]\n",
    "\n",
    "u = data['modelMag_u']\n",
    "r = data['modelMag_r']\n",
    "rPetro = data['petroMag_r']\n",
    "\n",
    "#------------------------------------------------------------\n",
    "# Plot the galaxy colors and magnitudes\n",
    "fig, ax = plt.subplots(figsize=(5, 3.75))\n",
    "ax.plot(u - r, rPetro, '.k', markersize=2)\n",
    "\n",
    "ax.set_xlim(1, 4.5)\n",
    "ax.set_ylim(18.1, 13.5)\n",
    "\n",
    "ax.set_xlabel(r'$\\mathrm{u - r}$')\n",
    "ax.set_ylabel(r'$\\mathrm{r_{petrosian}}$')\n",
    "\n",
    "plt.show()"
   ]
  },
  {
   "cell_type": "raw",
   "metadata": {},
   "source": [
    "Figure 1.3. The r vs. u-r color-magnitude diagram for the first 1000 entries in the catalog of spectroscopically observed galaxies from the Sloan Digital Sky Survey (SDSS). Note two \"clouds\" of points with different morphologies separated by u-r ~ 2.3. The abrupt decrease of the point density for r > 17.7 (the bottom of the diagram) is due to the selection function for\n",
    "the spectroscopic galaxy sample from SDSS. This example shows how to fetch photometric data from the SDSS spectroscopic sample and plot a simple color-magnitude diagram."
   ]
  },
  {
   "cell_type": "markdown",
   "metadata": {},
   "source": [
    "Note that we used the Petrosian magnitudes for the magnitude axis and model\n",
    "magnitudes to construct the u − r color; see [36] for details. Through squinted eyes,\n",
    "one can just make out a division at u − r ≈ 2.3 between two classes of objects\n",
    "(see [2, 35] for an astrophysical discussion). Using the methods discussed in later\n",
    "chapters, we will be able to automate and quantify this sort of rough by-eye binary\n",
    "classification."
   ]
  },
  {
   "cell_type": "markdown",
   "metadata": {},
   "source": [
    "# 1.5.6. SDSS DR7 Quasar Catalog"
   ]
  },
  {
   "cell_type": "markdown",
   "metadata": {},
   "source": [
    "The SDSS Data Release 7 (DR7) Quasar Catalog contains 105,783 spectroscopically\n",
    "confirmed quasars with highly reliable redshifts, and represents the largest available\n",
    "data set of its type. The construction and content of this catalog are described in detail\n",
    "in [29].\n",
    "\n",
    "The function astroML.datasets.fetch_dr7_quasar() can be used to fetch these\n",
    "data as follows:"
   ]
  },
  {
   "cell_type": "code",
   "execution_count": 4,
   "metadata": {
    "collapsed": false
   },
   "outputs": [
    {
     "name": "stdout",
     "output_type": "stream",
     "text": [
      "downloading DR7 quasar dataset from http://das.sdss.org/va/qsocat/dr7qso.dat.gz to C:\\Users\\Jerome\\astroML_data\n",
      "Downloading http://das.sdss.org/va/qsocat/dr7qso.dat.gz\n",
      "\n"
     ]
    },
    {
     "data": {
      "text/plain": [
       "(105783,)"
      ]
     },
     "execution_count": 4,
     "metadata": {},
     "output_type": "execute_result"
    }
   ],
   "source": [
    "from astroML.datasets import fetch_dr7_quasar\n",
    "data = fetch_dr7_quasar()\n",
    "data.shape"
   ]
  },
  {
   "cell_type": "code",
   "execution_count": 5,
   "metadata": {
    "collapsed": false
   },
   "outputs": [
    {
     "data": {
      "text/plain": [
       "('sdssID', 'RA', 'dec', 'redshift', 'mag_u')"
      ]
     },
     "execution_count": 5,
     "metadata": {},
     "output_type": "execute_result"
    }
   ],
   "source": [
    "data.dtype.names[:5]"
   ]
  },
  {
   "cell_type": "markdown",
   "metadata": {},
   "source": [
    "One interesting feature of quasars is the redshift dependence of their photometric\n",
    "colors. We can visualize this for the first 1000 points in the data set as follows:"
   ]
  },
  {
   "cell_type": "code",
   "execution_count": 9,
   "metadata": {
    "collapsed": true
   },
   "outputs": [],
   "source": [
    "\"\"\"\n",
    "SDSS DR7 Quasars\n",
    "\"\"\"\n",
    "from matplotlib import pyplot as plt\n",
    "from astroML.datasets import fetch_dr7_quasar\n",
    "\n",
    "#----------------------------------------------------------------------\n",
    "# This function adjusts matplotlib settings for a uniform feel in the textbook.\n",
    "# Note that with usetex=True, fonts are rendered with LaTeX.  This may\n",
    "# result in an error if LaTeX is not installed on your system.  In that case,\n",
    "# you can set usetex to False.\n",
    "from astroML.plotting import setup_text_plots\n",
    "setup_text_plots(fontsize=12, usetex=True)\n",
    "\n",
    "#------------------------------------------------------------\n",
    "# Fetch the quasar data\n",
    "data = fetch_dr7_quasar()\n",
    "\n",
    "# select the first 10000 points\n",
    "data = data[:10000]\n",
    "\n",
    "r = data['mag_r']\n",
    "i = data['mag_i']\n",
    "z = data['redshift']\n",
    "\n",
    "#------------------------------------------------------------\n",
    "# Plot the quasar data\n",
    "fig, ax = plt.subplots(figsize=(5, 3.75))\n",
    "ax.plot(z, r - i, marker='.', markersize=2, linestyle='none', color='black')\n",
    "\n",
    "ax.set_xlim(0, 5)\n",
    "ax.set_ylim(-0.5, 1.0)\n",
    "\n",
    "ax.set_xlabel(r'${\\rm redshift}$')\n",
    "ax.set_ylabel(r'${\\rm r-i}$')\n",
    "\n",
    "plt.show()"
   ]
  },
  {
   "cell_type": "raw",
   "metadata": {},
   "source": [
    "Figure 1.4.The r-i color vs. redshift diagram for the first 1000 entries from the SDSS Data Release 7 Quasar Catalog. The color variation is due to emission lines entering and exiting the r and i band wavelength windows."
   ]
  },
  {
   "cell_type": "markdown",
   "metadata": {},
   "source": [
    "Figure 1.4 shows the resulting plot. The very clear structure in this diagram (and\n",
    "analogous diagrams for other colors) enables various algorithms for the photometric\n",
    "estimation of quasar redshifts, a type of problem discussed in detail in chapters 8–9.\n",
    "\n",
    "SDSS stellar spectra are of sufficient quality to provide robust and accurate values\n",
    "of the main stellar parameters, such as effective temperature, surface gravity, and\n",
    "metallicity (parametrized as [Fe/H]; this is the base 10 logarithm of the ratio of\n",
    "abundance of Fe atoms relative to H atoms, itself normalized by the corresponding\n",
    "ratio measured for the Sun, which is ∼ 0.02; i.e., [Fe/H]=0 for the Sun). These\n",
    "parameters are estimated using a variety of methods implemented in an automated\n",
    "pipeline called SSPP (SEGUE Stellar Parameters Pipeline); a detailed discussion of\n",
    "these methods and their performance can be found in [5] and references therein.\n",
    "\n",
    "We have selected a subset of stars for which, in addition to [Fe/H], another\n",
    "measure of chemical composition, [α/Fe] (for details see [21]), is also available from\n",
    "SDSS Data Release 9. Note that Data Release 9 is the first release with publicly\n",
    "available [α/Fe] data. These measurements meaningfully increase the dimensionality\n",
    "of the available parameter space; together with the three spatial coordinates and the\n",
    "three velocity components (the radial component is measured from spectra, and the\n",
    "two tangential components from angular displacements on the sky called proper\n",
    "motion), the resulting space has eight dimensions. To ensure a clean sample, we have\n",
    "selected ∼330,000 stars from this catalog by applying various selection criteria that\n",
    "can be found in the documentation for function fetch_sdss_sspp.\n",
    "\n",
    "The data set loader fetch_sdss_sspp for this catalog can be used as follows:"
   ]
  },
  {
   "cell_type": "code",
   "execution_count": 10,
   "metadata": {
    "collapsed": false
   },
   "outputs": [
    {
     "name": "stdout",
     "output_type": "stream",
     "text": [
      "Downloading http://www.astro.washington.edu/users/ivezic/DMbook/data/SDSSssppDR9_rerun122.fit\n",
      "\n"
     ]
    },
    {
     "name": "stderr",
     "output_type": "stream",
     "text": [
      "C:\\Users\\Jerome\\Anaconda3\\lib\\site-packages\\astropy\\io\\fits\\util.py:578: UserWarning: Could not find appropriate MS Visual C Runtime library or library is corrupt/misconfigured; cannot determine whether your file object was opened in append mode.  Please consider using a file object opened in write mode instead.\n",
      "  'Could not find appropriate MS Visual C Runtime '\n"
     ]
    },
    {
     "data": {
      "text/plain": [
       "(327260,)"
      ]
     },
     "execution_count": 10,
     "metadata": {},
     "output_type": "execute_result"
    }
   ],
   "source": [
    "from astroML.datasets import fetch_sdss_sspp\n",
    "data = fetch_sdss_sspp()\n",
    "data.shape"
   ]
  },
  {
   "cell_type": "code",
   "execution_count": 11,
   "metadata": {
    "collapsed": false
   },
   "outputs": [
    {
     "data": {
      "text/plain": [
       "('ra', 'dec', 'Ar', 'upsf', 'uErr')"
      ]
     },
     "execution_count": 11,
     "metadata": {},
     "output_type": "execute_result"
    }
   ],
   "source": [
    "data.dtype.names[:5]"
   ]
  },
  {
   "cell_type": "markdown",
   "metadata": {},
   "source": [
    "As above, we use a simple example plot to show how to work with the data.\n",
    "Astronomers often look at a plot of surface gravity vs. effective temperature because\n",
    "it is related to the famous luminosity vs. temperature Hertzsprung–Russell diagram\n",
    "which summarizes well the theories of stellar structure. The surface gravity is\n",
    "typically expressed in the cgs system (in units of cm/s2), and its logarithm is used\n",
    "in analysis (for orientation, log g for the Sun is ∼4.44). As before, we plot only the\n",
    "first 10,000 entries, shown in figure 1.5."
   ]
  },
  {
   "cell_type": "code",
   "execution_count": 13,
   "metadata": {
    "collapsed": false
   },
   "outputs": [
    {
     "name": "stderr",
     "output_type": "stream",
     "text": [
      "C:\\Users\\Jerome\\Anaconda3\\lib\\site-packages\\astropy\\io\\fits\\util.py:578: UserWarning: Could not find appropriate MS Visual C Runtime library or library is corrupt/misconfigured; cannot determine whether your file object was opened in append mode.  Please consider using a file object opened in write mode instead.\n",
      "  'Could not find appropriate MS Visual C Runtime '\n"
     ]
    }
   ],
   "source": [
    "\"\"\"\n",
    "SDSS Segue Stellar Parameter Pipeline Data\n",
    "\"\"\"\n",
    "from matplotlib import pyplot as plt\n",
    "from astroML.datasets import fetch_sdss_sspp\n",
    "\n",
    "#----------------------------------------------------------------------\n",
    "# This function adjusts matplotlib settings for a uniform feel in the textbook.\n",
    "# Note that with usetex=True, fonts are rendered with LaTeX.  This may\n",
    "# result in an error if LaTeX is not installed on your system.  In that case,\n",
    "# you can set usetex to False.\n",
    "from astroML.plotting import setup_text_plots\n",
    "setup_text_plots(fontsize=12, usetex=True)\n",
    "\n",
    "#------------------------------------------------------------\n",
    "# Fetch the data\n",
    "data = fetch_sdss_sspp()\n",
    "\n",
    "# select the first 10000 points\n",
    "data = data[:10000]\n",
    "\n",
    "# do some reasonable magnitude cuts\n",
    "rpsf = data['rpsf']\n",
    "data = data[(rpsf > 15) & (rpsf < 19)]\n",
    "\n",
    "# get the desired data\n",
    "logg = data['logg']\n",
    "Teff = data['Teff']\n",
    "\n",
    "#------------------------------------------------------------\n",
    "# Plot the data\n",
    "fig, ax = plt.subplots(figsize=(5, 3.75))\n",
    "ax.plot(Teff, logg, marker='.', markersize=2, linestyle='none', color='black')\n",
    "\n",
    "ax.set_xlim(8000, 4500)\n",
    "ax.set_ylim(5.1, 1)\n",
    "\n",
    "ax.set_xlabel(r'$\\mathrm{T_{eff}\\ (K)}$')\n",
    "ax.set_ylabel(r'$\\mathrm{log_{10}[g / (cm/s^2)]}$')\n",
    "\n",
    "plt.show()"
   ]
  },
  {
   "cell_type": "markdown",
   "metadata": {},
   "source": [
    "Figure 1.5. The surface gravity vs. effective temperature plot for the first 10,000 entries\n",
    "from the catalog of stars with SDSS spectra. The rich substructure reflects\n",
    "both stellar physics and the SDSS selection criteria for spectroscopic\n",
    "follow-up. The plume of points centered on Teff ~ 5300 K and log g ~ 3 is\n",
    "dominated by red giant stars, and the locus of points with Teff < 6500 K and\n",
    "log g > 4.5 is dominated by main sequence stars. Stars to the left from the\n",
    "main sequence locus are dominated by the so-called blue horizontal branch\n",
    "stars. The axes are plotted backward for ease of comparison with the classical\n",
    "Hertzsprung-Russell diagram: the luminosity of a star approximately increases\n",
    "upward in this diagram."
   ]
  },
  {
   "cell_type": "markdown",
   "metadata": {},
   "source": [
    "# 1.5.8. SDSS Standard Star Catalog from Stripe 82"
   ]
  },
  {
   "cell_type": "markdown",
   "metadata": {},
   "source": [
    "In a much smaller area of ∼300 deg$^2$, SDSS has obtained repeated imaging that\n",
    "enabled the construction of a more precise photometric catalog containing ∼1\n",
    "million stars (the precision comes from the averaging of typically over ten observations).\n",
    "These stars were selected as nonvariable point sources and have photometric\n",
    "precision better than 0.01 mag at the bright end (or about twice as good as\n",
    "single measurements). The size and photometric precision of this catalog make it\n",
    "a good choice for exploring various methods described in this book, such as stellar locus parametrization in the four-dimensional color space, and search for outliers.\n",
    "Further details about the construction of this catalog and its contents can be found\n",
    "in [19].\n",
    "\n",
    "There are two versions of this catalog available from astroML.datasets. Both\n",
    "are accessed with the function fetch_sdss_S82standards. The first contains just the\n",
    "attributes measured by SDSS, while the second version includes a subset of stars\n",
    "cross-matched to 2MASS. This second version can be obtained by calling\n",
    "fetch_sdss_S82standards(crossmatch_2mass = True).\n",
    "The following shows how to fetch and plot the data:"
   ]
  },
  {
   "cell_type": "code",
   "execution_count": 15,
   "metadata": {
    "collapsed": false
   },
   "outputs": [
    {
     "name": "stdout",
     "output_type": "stream",
     "text": [
      "downloading cross-matched SDSS/2MASS dataset from http://www.astro.washington.edu/users/ivezic/sdss/catalogs/stripe82calibStars_v2.6.dat.gz to C:\\Users\\Jerome\\astroML_data\n",
      "Downloading http://www.astro.washington.edu/users/ivezic/sdss/catalogs/stripe82calibStars_v2.6.dat.gz\n",
      "\n",
      "uncompressing file...\n"
     ]
    },
    {
     "data": {
      "text/plain": [
       "(1006849,)"
      ]
     },
     "execution_count": 15,
     "metadata": {},
     "output_type": "execute_result"
    }
   ],
   "source": [
    "from astroML.datasets import fetch_sdss_S82standards\n",
    "data = fetch_sdss_S82standards()\n",
    "data.shape"
   ]
  },
  {
   "cell_type": "code",
   "execution_count": 17,
   "metadata": {
    "collapsed": false
   },
   "outputs": [
    {
     "data": {
      "text/plain": [
       "('RA', 'DEC', 'RArms', 'DECrms', 'Ntot')"
      ]
     },
     "execution_count": 17,
     "metadata": {},
     "output_type": "execute_result"
    }
   ],
   "source": [
    "data.dtype.names[:5]"
   ]
  },
  {
   "cell_type": "markdown",
   "metadata": {},
   "source": [
    "Again, we will create a simple color–color scatter plot of the first 1000 entries,\n",
    "shown in figure 1.6."
   ]
  },
  {
   "cell_type": "code",
   "execution_count": 18,
   "metadata": {
    "collapsed": true
   },
   "outputs": [],
   "source": [
    "\"\"\"\n",
    "SDSS Stripe 82 Standard Stars\n",
    "\"\"\"\n",
    "from matplotlib import pyplot as plt\n",
    "from astroML.datasets import fetch_sdss_S82standards\n",
    "\n",
    "#----------------------------------------------------------------------\n",
    "# This function adjusts matplotlib settings for a uniform feel in the textbook.\n",
    "# Note that with usetex=True, fonts are rendered with LaTeX.  This may\n",
    "# result in an error if LaTeX is not installed on your system.  In that case,\n",
    "# you can set usetex to False.\n",
    "from astroML.plotting import setup_text_plots\n",
    "setup_text_plots(fontsize=12, usetex=True)\n",
    "\n",
    "#------------------------------------------------------------\n",
    "# Fetch the stripe 82 data\n",
    "data = fetch_sdss_S82standards()\n",
    "\n",
    "# select the first 1000 points\n",
    "data = data[:1000]\n",
    "\n",
    "# select the mean magnitudes for g, r, i\n",
    "g = data['mmu_g']\n",
    "r = data['mmu_r']\n",
    "i = data['mmu_i']\n",
    "\n",
    "#------------------------------------------------------------\n",
    "# Plot the g-r vs r-i colors\n",
    "fig, ax = plt.subplots(figsize=(5, 3.75))\n",
    "ax.plot(g - r, r - i, marker='.', markersize=2,\n",
    "        color='black', linestyle='none')\n",
    "\n",
    "ax.set_xlim(-0.6, 2.0)\n",
    "ax.set_ylim(-0.6, 2.5)\n",
    "\n",
    "ax.set_xlabel(r'${\\rm g - r}$')\n",
    "ax.set_ylabel(r'${\\rm r - i}$')\n",
    "\n",
    "plt.show()"
   ]
  },
  {
   "cell_type": "markdown",
   "metadata": {},
   "source": [
    "Figure 1.6. The g-r vs. r-i color-color diagram for the first 1000 entries in the\n",
    "Stripe 82 Standard Star Catalog. The region with the highest point density\n",
    "is dominated by main sequence stars. The thin extension toward the lower-left\n",
    "corner is dominated by the so-called blue horizontal branch stars and white\n",
    "dwarf stars."
   ]
  },
  {
   "cell_type": "markdown",
   "metadata": {},
   "source": [
    "# 1.5.9. LINEAR Stellar Light Curves"
   ]
  },
  {
   "cell_type": "markdown",
   "metadata": {},
   "source": [
    "The LINEAR project has been operated by the MIT Lincoln Laboratory since 1998\n",
    "to discover and track near-Earth asteroids (the so-called “killer asteroids”). Its\n",
    "archive now contains approximately 6 million images of the sky, most of which\n",
    "are 5 MP images covering 2 deg2. The LINEAR image archive contains a unique\n",
    "combination of sensitivity, sky coverage, and observational cadence (several hundred\n",
    "observations per object). A shortcoming of original reductions of LINEAR data is\n",
    "that its photometric calibration is fairly inaccurate because the effort was focused on astrometric observations of asteroids. Here we use recalibrated LINEAR data from\n",
    "the sky region covered by SDSS which aided recalibration [30]. We focus on 7000\n",
    "likely periodic variable stars. The full data set with 20 million light curves is publicly\n",
    "available.\n",
    "\n",
    "The loader for the LINEAR data set is fetch_LINEAR_sample. This data set\n",
    "contains light curves and associated catalog data for over 7000 objects:"
   ]
  },
  {
   "cell_type": "code",
   "execution_count": 1,
   "metadata": {
    "collapsed": false
   },
   "outputs": [
    {
     "data": {
      "text/plain": [
       "(7010,)"
      ]
     },
     "execution_count": 1,
     "metadata": {},
     "output_type": "execute_result"
    }
   ],
   "source": [
    "from astroML.datasets import fetch_LINEAR_sample\n",
    "data = fetch_LINEAR_sample ()\n",
    "gr = data.targets['gr'] # g-r color\n",
    "ri = data.targets['ri'] # r-i color\n",
    "logP = data.targets['LP1']\n",
    "# log_10(period) in days\n",
    "gr.shape"
   ]
  },
  {
   "cell_type": "markdown",
   "metadata": {
    "collapsed": true
   },
   "source": [
    "The somewhat cumbersome interface is due to the size of the data set: to avoid\n",
    "the overhead of loading all of the data when only a portion will be needed in any\n",
    "given script, the data are accessed through a class interface which loads the needed\n",
    "data on demand. Figure 1.7 shows a visualization of the data loaded in the example\n",
    "above."
   ]
  },
  {
   "cell_type": "code",
   "execution_count": 4,
   "metadata": {
    "collapsed": false
   },
   "outputs": [
    {
     "name": "stdout",
     "output_type": "stream",
     "text": [
      "Downloading http://www.astro.washington.edu/users/ivezic/DMbook/data/LINEARattributesFinalApr2013.dat\n",
      "\n"
     ]
    }
   ],
   "source": [
    "\"\"\"\n",
    "Phased LINEAR Light Curve\n",
    "\"\"\"\n",
    "import numpy as np\n",
    "from matplotlib import pyplot as plt\n",
    "from astroML.datasets import fetch_LINEAR_sample, fetch_LINEAR_geneva\n",
    "\n",
    "#----------------------------------------------------------------------\n",
    "# This function adjusts matplotlib settings for a uniform feel in the textbook.\n",
    "# Note that with usetex=True, fonts are rendered with LaTeX.  This may\n",
    "# result in an error if LaTeX is not installed on your system.  In that case,\n",
    "# you can set usetex to False.\n",
    "from astroML.plotting import setup_text_plots\n",
    "setup_text_plots(fontsize=12, usetex=True)\n",
    "\n",
    "#------------------------------------------------------------\n",
    "# Get data for the plot\n",
    "data = fetch_LINEAR_sample()\n",
    "geneva = fetch_LINEAR_geneva()  # contains well-measured periods\n",
    "\n",
    "# Compute the phased light curve for a single object.\n",
    "# the best-fit period in the file is not accurate enough\n",
    "# for light curve phasing.  The frequency below is\n",
    "# calculated using Lomb Scargle (see chapter10/fig_LINEAR_LS.py)\n",
    "id = 18525697\n",
    "omega = 10.82722481\n",
    "t, y, dy = data[id].T\n",
    "phase = (t * omega * 0.5 / np.pi + 0.1) % 1\n",
    "\n",
    "# Select colors, magnitudes, and periods from the global set\n",
    "targets = data.targets[data.targets['LP1'] < 2]\n",
    "r = targets['r']\n",
    "gr = targets['gr']\n",
    "ri = targets['ri']\n",
    "logP = targets['LP1']\n",
    "\n",
    "# Cross-match by ID with the geneva catalog to get more accurate periods\n",
    "targetIDs = [str(ID).lstrip('0') for ID in targets['objectID']]\n",
    "genevaIDs = [ID.decode('utf-8').lstrip('0') for ID in geneva['LINEARobjectID']]\n",
    "\n",
    "def safe_index(L, val):\n",
    "    try:\n",
    "        return L.index(val)\n",
    "    except ValueError:\n",
    "        return -1\n",
    "\n",
    "ind = np.array([safe_index(genevaIDs, ID) for ID in targetIDs])\n",
    "mask = (ind >= 0)\n",
    "\n",
    "logP = geneva['logP'][ind[mask]]\n",
    "r = r[mask]\n",
    "gr = gr[mask]\n",
    "ri = ri[mask]\n",
    "\n",
    "#------------------------------------------------------------\n",
    "# plot the results\n",
    "fig = plt.figure(figsize=(5, 5))\n",
    "fig.subplots_adjust(hspace=0.1, wspace=0.1,\n",
    "                    top=0.95, right=0.95)\n",
    "\n",
    "ax = fig.add_axes((0.64, 0.62, 0.3, 0.25))\n",
    "plt.errorbar(phase, y, dy, fmt='.', color='black', ecolor='gray',\n",
    "             lw=1, ms=4, capsize=1.5)\n",
    "plt.ylim(plt.ylim()[::-1])\n",
    "plt.xlabel('phase')\n",
    "plt.ylabel('magnitude')\n",
    "ax.yaxis.set_major_locator(plt.MultipleLocator(0.5))\n",
    "plt.title(\"Example of\\nphased light curve\")\n",
    "\n",
    "ax = fig.add_subplot(223)\n",
    "ax.plot(gr, ri, '.', color='black', markersize=2)\n",
    "ax.set_xlim(-0.3, 1.5)\n",
    "ax.set_ylim(-1.0, 1.5)\n",
    "ax.xaxis.set_major_locator(plt.MultipleLocator(1.0))\n",
    "ax.yaxis.set_major_locator(plt.MultipleLocator(1.0))\n",
    "ax.set_xlabel(r'${\\rm g-r}$')\n",
    "ax.set_ylabel(r'${\\rm r-i}$')\n",
    "\n",
    "ax = fig.add_subplot(221, yscale='log')\n",
    "ax.plot(gr, 10 ** logP, '.', color='black', markersize=2)\n",
    "ax.set_xlim(-0.3, 1.5)\n",
    "ax.set_ylim(3E-2, 1E1)\n",
    "ax.xaxis.set_major_locator(plt.MultipleLocator(1.0))\n",
    "ax.xaxis.set_major_formatter(plt.NullFormatter())\n",
    "ax.set_ylabel('Period (days)')\n",
    "\n",
    "ax = fig.add_subplot(224, xscale='log')\n",
    "ax.plot(10 ** logP, ri, '.', color='black', markersize=2)\n",
    "ax.set_xlim(3E-2, 1E1)\n",
    "ax.set_ylim(-1.0, 1.5)\n",
    "ax.yaxis.set_major_formatter(plt.NullFormatter())\n",
    "ax.yaxis.set_major_locator(plt.MultipleLocator(1.0))\n",
    "ax.set_xlabel('Period (days)')\n",
    "\n",
    "plt.show()"
   ]
  },
  {
   "cell_type": "markdown",
   "metadata": {
    "collapsed": true
   },
   "source": [
    "Figure1.7. An example of the type of data available in the LINEAR dataset.  The scatter\n",
    "plots show the g-r and r-i colors, and the variability period determined using\n",
    "a Lomb-Scargle periodogram (for details see chapter 10). The upper-right panel\n",
    "shows a phased light curve for one of the over 7000 objects."
   ]
  },
  {
   "cell_type": "markdown",
   "metadata": {
    "collapsed": true
   },
   "source": [
    "# 1.5.10. SDSS Moving Object Catalog"
   ]
  },
  {
   "cell_type": "markdown",
   "metadata": {
    "collapsed": true
   },
   "source": [
    "SDSS, although primarily designed for observations of extragalactic objects, contributed\n",
    "significantly to studies of Solar system objects. It increased the number of\n",
    "asteroids with accurate five-color photometry by more than a factor of one hundred,\n",
    "and to a flux limit about one hundred times fainter than previousmulticolor surveys.\n",
    "SDSS data for asteroids is collated and available as the Moving Object Catalog35\n",
    "(MOC). The 4th MOC lists astrometric and photometric data for ∼472,000 Solar\n",
    "system objects. Of those, ∼100,000 are unique objects with known orbital elements\n",
    "obtained by other surveys.\n",
    "\n",
    "We can use the provided Python utilities to access the MOC data. The loader is\n",
    "called fetch_moving_objects."
   ]
  },
  {
   "cell_type": "code",
   "execution_count": 5,
   "metadata": {
    "collapsed": false
   },
   "outputs": [
    {
     "name": "stdout",
     "output_type": "stream",
     "text": [
      "downloading moving object catalog from http://www.astro.washington.edu/users/ivezic/sdssmoc/ADR3.dat.gz to C:\\Users\\Jerome\\astroML_data\n",
      "Downloading http://www.astro.washington.edu/users/ivezic/sdssmoc/ADR3.dat.gz\n",
      "\n",
      "uncompressing file...\n"
     ]
    },
    {
     "data": {
      "text/plain": [
       "(33160,)"
      ]
     },
     "execution_count": 5,
     "metadata": {},
     "output_type": "execute_result"
    }
   ],
   "source": [
    "from astroML.datasets import fetch_moving_objects\n",
    "data = fetch_moving_objects(Parker2008_cuts=True)\n",
    "data.shape"
   ]
  },
  {
   "cell_type": "code",
   "execution_count": 6,
   "metadata": {
    "collapsed": false
   },
   "outputs": [
    {
     "data": {
      "text/plain": [
       "('moID', 'sdss_run', 'sdss_col', 'sdss_field', 'sdss_obj')"
      ]
     },
     "execution_count": 6,
     "metadata": {},
     "output_type": "execute_result"
    }
   ],
   "source": [
    "data.dtype.names[:5]"
   ]
  },
  {
   "cell_type": "markdown",
   "metadata": {},
   "source": [
    "As an example, we make a scatter plot of the orbital semimajor axis vs. the orbital\n",
    "inclination angle for the first 10,000 catalog entries (figure 1.8). Note that we have set\n",
    "a flag to make the data quality cuts used in [26] to increase the measurement quality\n",
    "for the resulting subsample. Additional details about this plot can be found in the\n",
    "same reference, and references therein."
   ]
  },
  {
   "cell_type": "code",
   "execution_count": 8,
   "metadata": {
    "collapsed": true
   },
   "outputs": [],
   "source": [
    "\"\"\"\n",
    "SDSS Moving Object Data\n",
    "\"\"\"\n",
    "from matplotlib import pyplot as plt\n",
    "from astroML.datasets import fetch_moving_objects\n",
    "\n",
    "#----------------------------------------------------------------------\n",
    "# This function adjusts matplotlib settings for a uniform feel in the textbook.\n",
    "# Note that with usetex=True, fonts are rendered with LaTeX.  This may\n",
    "# result in an error if LaTeX is not installed on your system.  In that case,\n",
    "# you can set usetex to False.\n",
    "from astroML.plotting import setup_text_plots\n",
    "setup_text_plots(fontsize=12, usetex=True)\n",
    "\n",
    "#------------------------------------------------------------\n",
    "# Fetch the moving object data\n",
    "data = fetch_moving_objects(Parker2008_cuts=True)\n",
    "\n",
    "# Use only the first 10000 points\n",
    "data = data[:10000]\n",
    "\n",
    "a = data['aprime']\n",
    "sini = data['sin_iprime']\n",
    "\n",
    "#------------------------------------------------------------\n",
    "# Plot the results\n",
    "fig, ax = plt.subplots(figsize=(5, 3.75))\n",
    "ax.plot(a, sini, '.', markersize=2, color='black')\n",
    "\n",
    "ax.set_xlim(2.0, 3.6)\n",
    "ax.set_ylim(-0.01, 0.31)\n",
    "\n",
    "ax.set_xlabel('Semimajor Axis (AU)')\n",
    "ax.set_ylabel('Sine of Inclination Angle')\n",
    "\n",
    "plt.show()"
   ]
  },
  {
   "cell_type": "markdown",
   "metadata": {},
   "source": [
    "Figure 1.8. The orbital semimajor axis vs. the orbital inclination angle diagram for the\n",
    "first 10,000 catalog entries from the SDSS Moving Object Catalog (after\n",
    "applying several quality cuts). The gaps at approximately 2.5, 2.8, and 3.3 AU\n",
    "are called the Kirkwood gaps and are due to orbital resonances with Jupiter.\n",
    "The several distinct clumps are called asteroid families and represent remnants\n",
    "from collisions of larger asteroids."
   ]
  }
 ],
 "metadata": {
  "kernelspec": {
   "display_name": "Python 2",
   "language": "python",
   "name": "python2"
  },
  "language_info": {
   "codemirror_mode": {
    "name": "ipython",
    "version": 2
   },
   "file_extension": ".py",
   "mimetype": "text/x-python",
   "name": "python",
   "nbconvert_exporter": "python",
   "pygments_lexer": "ipython2",
   "version": "2.7.11"
  }
 },
 "nbformat": 4,
 "nbformat_minor": 0
}
